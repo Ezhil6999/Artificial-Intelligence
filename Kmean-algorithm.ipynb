{
 "cells": [
  {
   "cell_type": "code",
   "execution_count": 3,
   "id": "c2549179",
   "metadata": {},
   "outputs": [],
   "source": [
    "# !pip install sentence_transformers"
   ]
  },
  {
   "cell_type": "code",
   "execution_count": 4,
   "id": "30f61e34",
   "metadata": {},
   "outputs": [],
   "source": [
    "from sentence_transformers import SentenceTransformer\n",
    "from sklearn.cluster import KMeans"
   ]
  },
  {
   "cell_type": "code",
   "execution_count": 5,
   "id": "8c4717cb",
   "metadata": {},
   "outputs": [],
   "source": [
    "text_chunks = telecom_sentences = [\n",
    "    \"5G technology promises ultra-fast internet speeds and low latency.\",\n",
    "    \"Telecom companies are investing heavily in infrastructure for better coverage.\",\n",
    "    \"Fiber-optic cables play a crucial role in high-speed internet transmission.\",\n",
    "    \"The evolution from 4G to 5G has transformed the way we connect and communicate.\",\n",
    "    \"Mobile network operators are expanding their services to rural areas.\",\n",
    "    \"Telecommunications revolutionized global connectivity and communication.\",\n",
    "    \"Satellite communication enables wide-reaching network coverage.\",\n",
    "    \"Telecom spectrum auctions determine frequency allocations for carriers.\",\n",
    "    \"VoIP technology has revolutionized voice communication over the internet.\",\n",
    "    \"Telecom regulatory bodies ensure fair competition and consumer protection.\",\n",
    "    \"Edge computing is enhancing network performance for telecom providers.\",\n",
    "    \"IoT devices rely on robust telecom infrastructure for seamless connectivity.\",\n",
    "    \"The telecom industry faces challenges in cybersecurity and data privacy.\",\n",
    "    \"Virtual Network Operators lease network infrastructure from major carriers.\",\n",
    "    \"The convergence of telecom and IT has led to innovative services.\",\n",
    "    \"Telecom towers are essential for signal transmission and reception.\",\n",
    "    \"Network slicing in 5G enables customized services for different applications.\",\n",
    "    \"Telecom APIs facilitate the integration of services across platforms.\",\n",
    "    \"Telecom billing systems manage subscriber charges and usage.\",\n",
    "    \"5G technology is poised to revolutionize industries beyond telecommunications.\",\n",
    "    \"Telecom analytics play a pivotal role in network optimization and planning.\",\n",
    "    \"Telecom infrastructure resilience is critical during natural disasters.\",\n",
    "    \"Telecom companies are exploring blockchain for secure transactions.\",\n",
    "    \"Telecom network virtualization reduces infrastructure costs and improves flexibility.\",\n",
    "    \"Telecom innovation drives digital transformation across sectors.\"\n",
    "]\n"
   ]
  },
  {
   "cell_type": "code",
   "execution_count": 6,
   "id": "7fc60841",
   "metadata": {},
   "outputs": [],
   "source": [
    "query = \"How are telecom companies adapting to 5G technology?\""
   ]
  },
  {
   "cell_type": "code",
   "execution_count": 7,
   "id": "700a9bdf",
   "metadata": {},
   "outputs": [],
   "source": [
    "from sentence_transformers import SentenceTransformer\n",
    "from sklearn.cluster import KMeans\n",
    "from sklearn.metrics.pairwise import cosine_similarity"
   ]
  },
  {
   "cell_type": "code",
   "execution_count": 8,
   "id": "e533db36",
   "metadata": {},
   "outputs": [],
   "source": [
    "model = SentenceTransformer('paraphrase-MiniLM-L6-v2')"
   ]
  },
  {
   "cell_type": "code",
   "execution_count": 9,
   "id": "58b7eb23",
   "metadata": {},
   "outputs": [],
   "source": [
    "encoded_text_chunks = model.encode(text_chunks)\n",
    "encoded_query = model.encode([query])"
   ]
  },
  {
   "cell_type": "code",
   "execution_count": 10,
   "id": "4e47c6d5",
   "metadata": {},
   "outputs": [],
   "source": [
    "encoded_text_chunks = encoded_text_chunks.tolist()\n",
    "encoded_text_chunks.append(encoded_query[0])"
   ]
  },
  {
   "cell_type": "code",
   "execution_count": 11,
   "id": "70e01156",
   "metadata": {},
   "outputs": [],
   "source": [
    "cos_sim_matrix = cosine_similarity(encoded_text_chunks)"
   ]
  },
  {
   "cell_type": "code",
   "execution_count": 12,
   "id": "63922dfe",
   "metadata": {},
   "outputs": [
    {
     "name": "stderr",
     "output_type": "stream",
     "text": [
      "C:\\Users\\ccaas\\anaconda3\\Lib\\site-packages\\sklearn\\cluster\\_kmeans.py:1412: FutureWarning: The default value of `n_init` will change from 10 to 'auto' in 1.4. Set the value of `n_init` explicitly to suppress the warning\n",
      "  super()._check_params_vs_input(X, default_n_init=10)\n",
      "C:\\Users\\ccaas\\anaconda3\\Lib\\site-packages\\sklearn\\cluster\\_kmeans.py:1436: UserWarning: KMeans is known to have a memory leak on Windows with MKL, when there are less chunks than available threads. You can avoid it by setting the environment variable OMP_NUM_THREADS=1.\n",
      "  warnings.warn(\n"
     ]
    },
    {
     "data": {
      "text/html": [
       "<style>#sk-container-id-1 {color: black;}#sk-container-id-1 pre{padding: 0;}#sk-container-id-1 div.sk-toggleable {background-color: white;}#sk-container-id-1 label.sk-toggleable__label {cursor: pointer;display: block;width: 100%;margin-bottom: 0;padding: 0.3em;box-sizing: border-box;text-align: center;}#sk-container-id-1 label.sk-toggleable__label-arrow:before {content: \"▸\";float: left;margin-right: 0.25em;color: #696969;}#sk-container-id-1 label.sk-toggleable__label-arrow:hover:before {color: black;}#sk-container-id-1 div.sk-estimator:hover label.sk-toggleable__label-arrow:before {color: black;}#sk-container-id-1 div.sk-toggleable__content {max-height: 0;max-width: 0;overflow: hidden;text-align: left;background-color: #f0f8ff;}#sk-container-id-1 div.sk-toggleable__content pre {margin: 0.2em;color: black;border-radius: 0.25em;background-color: #f0f8ff;}#sk-container-id-1 input.sk-toggleable__control:checked~div.sk-toggleable__content {max-height: 200px;max-width: 100%;overflow: auto;}#sk-container-id-1 input.sk-toggleable__control:checked~label.sk-toggleable__label-arrow:before {content: \"▾\";}#sk-container-id-1 div.sk-estimator input.sk-toggleable__control:checked~label.sk-toggleable__label {background-color: #d4ebff;}#sk-container-id-1 div.sk-label input.sk-toggleable__control:checked~label.sk-toggleable__label {background-color: #d4ebff;}#sk-container-id-1 input.sk-hidden--visually {border: 0;clip: rect(1px 1px 1px 1px);clip: rect(1px, 1px, 1px, 1px);height: 1px;margin: -1px;overflow: hidden;padding: 0;position: absolute;width: 1px;}#sk-container-id-1 div.sk-estimator {font-family: monospace;background-color: #f0f8ff;border: 1px dotted black;border-radius: 0.25em;box-sizing: border-box;margin-bottom: 0.5em;}#sk-container-id-1 div.sk-estimator:hover {background-color: #d4ebff;}#sk-container-id-1 div.sk-parallel-item::after {content: \"\";width: 100%;border-bottom: 1px solid gray;flex-grow: 1;}#sk-container-id-1 div.sk-label:hover label.sk-toggleable__label {background-color: #d4ebff;}#sk-container-id-1 div.sk-serial::before {content: \"\";position: absolute;border-left: 1px solid gray;box-sizing: border-box;top: 0;bottom: 0;left: 50%;z-index: 0;}#sk-container-id-1 div.sk-serial {display: flex;flex-direction: column;align-items: center;background-color: white;padding-right: 0.2em;padding-left: 0.2em;position: relative;}#sk-container-id-1 div.sk-item {position: relative;z-index: 1;}#sk-container-id-1 div.sk-parallel {display: flex;align-items: stretch;justify-content: center;background-color: white;position: relative;}#sk-container-id-1 div.sk-item::before, #sk-container-id-1 div.sk-parallel-item::before {content: \"\";position: absolute;border-left: 1px solid gray;box-sizing: border-box;top: 0;bottom: 0;left: 50%;z-index: -1;}#sk-container-id-1 div.sk-parallel-item {display: flex;flex-direction: column;z-index: 1;position: relative;background-color: white;}#sk-container-id-1 div.sk-parallel-item:first-child::after {align-self: flex-end;width: 50%;}#sk-container-id-1 div.sk-parallel-item:last-child::after {align-self: flex-start;width: 50%;}#sk-container-id-1 div.sk-parallel-item:only-child::after {width: 0;}#sk-container-id-1 div.sk-dashed-wrapped {border: 1px dashed gray;margin: 0 0.4em 0.5em 0.4em;box-sizing: border-box;padding-bottom: 0.4em;background-color: white;}#sk-container-id-1 div.sk-label label {font-family: monospace;font-weight: bold;display: inline-block;line-height: 1.2em;}#sk-container-id-1 div.sk-label-container {text-align: center;}#sk-container-id-1 div.sk-container {/* jupyter's `normalize.less` sets `[hidden] { display: none; }` but bootstrap.min.css set `[hidden] { display: none !important; }` so we also need the `!important` here to be able to override the default hidden behavior on the sphinx rendered scikit-learn.org. See: https://github.com/scikit-learn/scikit-learn/issues/21755 */display: inline-block !important;position: relative;}#sk-container-id-1 div.sk-text-repr-fallback {display: none;}</style><div id=\"sk-container-id-1\" class=\"sk-top-container\"><div class=\"sk-text-repr-fallback\"><pre>KMeans(n_clusters=5)</pre><b>In a Jupyter environment, please rerun this cell to show the HTML representation or trust the notebook. <br />On GitHub, the HTML representation is unable to render, please try loading this page with nbviewer.org.</b></div><div class=\"sk-container\" hidden><div class=\"sk-item\"><div class=\"sk-estimator sk-toggleable\"><input class=\"sk-toggleable__control sk-hidden--visually\" id=\"sk-estimator-id-1\" type=\"checkbox\" checked><label for=\"sk-estimator-id-1\" class=\"sk-toggleable__label sk-toggleable__label-arrow\">KMeans</label><div class=\"sk-toggleable__content\"><pre>KMeans(n_clusters=5)</pre></div></div></div></div></div>"
      ],
      "text/plain": [
       "KMeans(n_clusters=5)"
      ]
     },
     "execution_count": 12,
     "metadata": {},
     "output_type": "execute_result"
    }
   ],
   "source": [
    "num_clusters = 5 \n",
    "kmeans = KMeans(n_clusters=num_clusters)\n",
    "kmeans.fit(cos_sim_matrix)"
   ]
  },
  {
   "cell_type": "code",
   "execution_count": 13,
   "id": "19a136c3",
   "metadata": {},
   "outputs": [
    {
     "name": "stdout",
     "output_type": "stream",
     "text": [
      "[2 4 3 2 4 0 3 1 0 1 4 4 0 1 0 3 2 4 1 2 4 3 1 0 0 2]\n"
     ]
    }
   ],
   "source": [
    "cluster_labels = kmeans.labels_\n",
    "print(cluster_labels)"
   ]
  },
  {
   "cell_type": "code",
   "execution_count": 14,
   "id": "4bcedebf",
   "metadata": {},
   "outputs": [
    {
     "name": "stdout",
     "output_type": "stream",
     "text": [
      "Cluster 1:\n",
      "Telecommunications revolutionized global connectivity and communication.\n",
      "VoIP technology has revolutionized voice communication over the internet.\n",
      "The telecom industry faces challenges in cybersecurity and data privacy.\n",
      "The convergence of telecom and IT has led to innovative services.\n",
      "Telecom network virtualization reduces infrastructure costs and improves flexibility.\n",
      "Telecom innovation drives digital transformation across sectors.\n",
      "------\n",
      "Cluster 2:\n",
      "Telecom spectrum auctions determine frequency allocations for carriers.\n",
      "Telecom regulatory bodies ensure fair competition and consumer protection.\n",
      "Virtual Network Operators lease network infrastructure from major carriers.\n",
      "Telecom billing systems manage subscriber charges and usage.\n",
      "Telecom companies are exploring blockchain for secure transactions.\n",
      "------\n",
      "Cluster 3:\n",
      "5G technology promises ultra-fast internet speeds and low latency.\n",
      "The evolution from 4G to 5G has transformed the way we connect and communicate.\n",
      "Network slicing in 5G enables customized services for different applications.\n",
      "5G technology is poised to revolutionize industries beyond telecommunications.\n",
      "------\n",
      "Cluster 4:\n",
      "Fiber-optic cables play a crucial role in high-speed internet transmission.\n",
      "Satellite communication enables wide-reaching network coverage.\n",
      "Telecom towers are essential for signal transmission and reception.\n",
      "Telecom infrastructure resilience is critical during natural disasters.\n",
      "------\n",
      "Cluster 5:\n",
      "Telecom companies are investing heavily in infrastructure for better coverage.\n",
      "Mobile network operators are expanding their services to rural areas.\n",
      "Edge computing is enhancing network performance for telecom providers.\n",
      "IoT devices rely on robust telecom infrastructure for seamless connectivity.\n",
      "Telecom APIs facilitate the integration of services across platforms.\n",
      "Telecom analytics play a pivotal role in network optimization and planning.\n",
      "------\n"
     ]
    }
   ],
   "source": [
    "clusters = {i: [] for i in range(num_clusters)}\n",
    "for i, label in enumerate(cluster_labels[:-1]):  # Exclude the last item (query)\n",
    "    clusters[label].append(text_chunks[i])\n",
    "\n",
    "# Print clusters\n",
    "for cluster_id, texts in clusters.items():\n",
    "    print(f\"Cluster {cluster_id + 1}:\")\n",
    "    for text in texts:\n",
    "        print(text)\n",
    "    print(\"------\")"
   ]
  },
  {
   "cell_type": "code",
   "execution_count": null,
   "id": "ace0508d",
   "metadata": {},
   "outputs": [],
   "source": []
  }
 ],
 "metadata": {
  "kernelspec": {
   "display_name": "Python 3 (ipykernel)",
   "language": "python",
   "name": "python3"
  },
  "language_info": {
   "codemirror_mode": {
    "name": "ipython",
    "version": 3
   },
   "file_extension": ".py",
   "mimetype": "text/x-python",
   "name": "python",
   "nbconvert_exporter": "python",
   "pygments_lexer": "ipython3",
   "version": "3.11.5"
  }
 },
 "nbformat": 4,
 "nbformat_minor": 5
}
